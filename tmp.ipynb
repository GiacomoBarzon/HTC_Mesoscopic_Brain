{
 "cells": [
  {
   "cell_type": "code",
   "execution_count": 1,
   "metadata": {},
   "outputs": [],
   "source": [
    "from HTC import HTC\n",
    "import matplotlib.pyplot as plt"
   ]
  },
  {
   "cell_type": "code",
   "execution_count": 2,
   "metadata": {},
   "outputs": [
    {
     "name": "stdout",
     "output_type": "stream",
     "text": [
      "CREATED Network=connectome, N=66, id=0 ...\n",
      "\n"
     ]
    }
   ],
   "source": [
    "tmp = HTC('connectome', dT=1.5)\n",
    "tmp.verbose = True"
   ]
  },
  {
   "cell_type": "code",
   "execution_count": 3,
   "metadata": {},
   "outputs": [
    {
     "name": "stdout",
     "output_type": "stream",
     "text": [
      "Network=connectome, N=66\n",
      "\n",
      "End simulating activity\n",
      "End simulation for connectome_66_0.0_1.5_1.5_20_0.73_0\n",
      "Saved connectome_66_0.0_1.5_1.5_20_0.73_0\n",
      "CPU times: user 5min 43s, sys: 46.2 s, total: 6min 29s\n",
      "Wall time: 7min 13s\n"
     ]
    }
   ],
   "source": [
    "%%time\n",
    "tmp.simulate('results/connectome_numba/', steps=6000)"
   ]
  },
  {
   "cell_type": "code",
   "execution_count": 4,
   "metadata": {},
   "outputs": [
    {
     "name": "stderr",
     "output_type": "stream",
     "text": [
      "/Library/Frameworks/Python.framework/Versions/3.7/lib/python3.7/site-packages/statsmodels/tools/_testing.py:19: FutureWarning: pandas.util.testing is deprecated. Use the functions in the public API at pandas.testing instead.\n",
      "  import pandas.util.testing as tm\n"
     ]
    }
   ],
   "source": [
    "from HTC_plot import plotHTC"
   ]
  },
  {
   "cell_type": "code",
   "execution_count": 10,
   "metadata": {},
   "outputs": [
    {
     "data": {
      "image/png": "[encoded data removed]",
      "text/plain": [
       "<Figure size 432x288 with 1 Axes>"
      ]
     },
     "metadata": {
      "needs_background": "light"
     },
     "output_type": "display_data"
    }
   ],
   "source": [
    "plt.xscale('log')\n",
    "plt.yscale('log')\n",
    "\n",
    "for i in range(len(tmp.Trange)):\n",
    "    plt.plot(tmp.pdf_size_causal[i][0], tmp.pdf_size_causal[i][1], 'o')\n",
    "    \n",
    "plt.show()"
   ]
  },
  {
   "cell_type": "code",
   "execution_count": 8,
   "metadata": {},
   "outputs": [
    {
     "data": {
      "text/plain": [
       "array([2.28479241e+00, 0.00000000e+00, 2.47295142e-01, 0.00000000e+00,\n",
       "       7.54417969e-02, 3.86533847e-02, 1.93975661e-02, 1.20553633e-02,\n",
       "       1.36388192e-02, 6.90255900e-03, 6.29145131e-03, 3.08882823e-03,\n",
       "       2.94091022e-03, 1.44941197e-03, 1.31631001e-03, 9.40422333e-04,\n",
       "       6.81871886e-04, 3.85250455e-04, 2.65943953e-04, 1.84063037e-04,\n",
       "       1.42124700e-04, 8.49993901e-05, 6.50644528e-05, 4.11720205e-05,\n",
       "       2.44248471e-05, 8.58653111e-06, 5.94284238e-06, 2.01458612e-06,\n",
       "       2.12467734e-06, 8.40294269e-07, 0.00000000e+00, 5.25736614e-07,\n",
       "       4.15849932e-07, 4.93396774e-07, 1.30089865e-06, 4.11596682e-07,\n",
       "       5.69742117e-07, 3.21898313e-07, 3.56463566e-07, 5.23635245e-07,\n",
       "       3.82327182e-07, 6.04830360e-07, 5.78081073e-07, 3.15347331e-07,\n",
       "       3.61680898e-07, 2.56489348e-07, 1.01439652e-07, 1.72818742e-07,\n",
       "       1.46461162e-07])"
      ]
     },
     "execution_count": 8,
     "metadata": {},
     "output_type": "execute_result"
    }
   ],
   "source": [
    "tmp.pdf_size_causal[i][1]"
   ]
  },
  {
   "cell_type": "code",
   "execution_count": null,
   "metadata": {},
   "outputs": [],
   "source": [
    "tmp.pdf_size_causal"
   ]
  },
  {
   "cell_type": "code",
   "execution_count": null,
   "metadata": {},
   "outputs": [],
   "source": [
    "plotter = plotHTC()"
   ]
  },
  {
   "cell_type": "code",
   "execution_count": null,
   "metadata": {},
   "outputs": [],
   "source": [
    "plotter.plot_variable(tmp, 'cluster')"
   ]
  },
  {
   "cell_type": "code",
   "execution_count": null,
   "metadata": {},
   "outputs": [],
   "source": [
    "plt.plot(tmp.Fisher)\n",
    "plt.plot(tmp.Fisher_norm)"
   ]
  },
  {
   "cell_type": "code",
   "execution_count": null,
   "metadata": {},
   "outputs": [],
   "source": [
    "#plt.plot(tmp.A)\n",
    "plt.plot(tmp.sigmaA)\n",
    "plt.plot(tmp.sigmaA_norm)"
   ]
  },
  {
   "cell_type": "code",
   "execution_count": null,
   "metadata": {},
   "outputs": [],
   "source": [
    "plt.plot(tmp.S2)\n",
    "plt.plot(tmp.S2_norm)"
   ]
  },
  {
   "cell_type": "code",
   "execution_count": null,
   "metadata": {},
   "outputs": [],
   "source": [
    "plt.xscale('log')\n",
    "plt.yscale('log')\n",
    "plt.plot(tmp.pdf[2][0], tmp.pdf[2][1], 'o')"
   ]
  },
  {
   "cell_type": "code",
   "execution_count": null,
   "metadata": {},
   "outputs": [],
   "source": [
    "tt = 15\n",
    "\n",
    "plt.xscale('log')\n",
    "plt.yscale('log')\n",
    "plt.plot(tmp.pdf_ev[tt][0], tmp.pdf_ev[tt][1], 'o')\n",
    "plt.show()"
   ]
  },
  {
   "cell_type": "code",
   "execution_count": null,
   "metadata": {},
   "outputs": [],
   "source": [
    "tt = 15\n",
    "\n",
    "plt.xscale('log')\n",
    "plt.yscale('log')\n",
    "plt.plot(tmp.pdf_size[tt][0], tmp.pdf_size[tt][1], 'o')\n",
    "plt.plot(tmp.pdf_size_norm[tt][0], tmp.pdf_size_norm[tt][1], 'o')\n",
    "plt.show()"
   ]
  },
  {
   "cell_type": "code",
   "execution_count": null,
   "metadata": {},
   "outputs": [],
   "source": [
    "tt = 5\n",
    "\n",
    "plt.xscale('log')\n",
    "plt.yscale('log')\n",
    "plt.plot(tmp.pdf_size_causal[tt][0], tmp.pdf_size_causal[tt][1], 'o')\n",
    "plt.plot(tmp.pdf_size_causal_norm[tt][0], tmp.pdf_size_causal_norm[tt][1], 'o')\n",
    "plt.show()"
   ]
  },
  {
   "cell_type": "code",
   "execution_count": null,
   "metadata": {},
   "outputs": [],
   "source": [
    "mod = HTC.loadFromName('results/connectome_numba/connectome_66_0.0_1.5_0.05_20_0.73_0')"
   ]
  },
  {
   "cell_type": "code",
   "execution_count": null,
   "metadata": {},
   "outputs": [],
   "source": [
    "import numpy as np\n",
    "aa = np.loadtxt('results/connectome_numba/connectome_66_0.0_1.5_0.05_20_0.73_0_observables.txt')\n",
    "aa.shape"
   ]
  },
  {
   "cell_type": "code",
   "execution_count": null,
   "metadata": {},
   "outputs": [],
   "source": []
  }
 ],
 "metadata": {
  "kernelspec": {
   "display_name": "Python 3",
   "language": "python",
   "name": "python3"
  },
  "language_info": {
   "codemirror_mode": {
    "name": "ipython",
    "version": 3
   },
   "file_extension": ".py",
   "mimetype": "text/x-python",
   "name": "python",
   "nbconvert_exporter": "python",
   "pygments_lexer": "ipython3",
   "version": "3.7.1"
  }
 },
 "nbformat": 4,
 "nbformat_minor": 2
}
