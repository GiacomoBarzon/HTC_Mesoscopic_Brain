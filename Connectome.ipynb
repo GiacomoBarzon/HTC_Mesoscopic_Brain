{
 "cells": [
  {
   "cell_type": "code",
   "execution_count": 1,
   "metadata": {},
   "outputs": [],
   "source": [
    "import numpy as np\n",
    "import matplotlib.pyplot as plt\n",
    "import matplotlib.colors\n",
    "import pandas as pd\n",
    "pd.options.display.float_format = '{:,.2f}'.format\n",
    "\n",
    "import networkx as nx"
   ]
  },
  {
   "cell_type": "code",
   "execution_count": 2,
   "metadata": {},
   "outputs": [
    {
     "data": {
      "text/plain": [
       "(66, 66)"
      ]
     },
     "execution_count": 2,
     "metadata": {},
     "output_type": "execute_result"
    }
   ],
   "source": [
    "# Load connectome\n",
    "cc = np.loadtxt('dati/RSN/RSN_matrix.txt')\n",
    "cc.shape"
   ]
  },
  {
   "cell_type": "code",
   "execution_count": 3,
   "metadata": {},
   "outputs": [
    {
     "data": {
      "image/png": "[encoded data removed]",
      "text/plain": [
       "<Figure size 432x288 with 2 Axes>"
      ]
     },
     "metadata": {
      "needs_background": "light"
     },
     "output_type": "display_data"
    }
   ],
   "source": [
    "plt.imshow(cc, norm=matplotlib.colors.LogNorm())\n",
    "plt.colorbar()\n",
    "plt.show()"
   ]
  },
  {
   "cell_type": "code",
   "execution_count": 4,
   "metadata": {},
   "outputs": [],
   "source": [
    "# create Networkx object\n",
    "G = nx.from_numpy_matrix(cc)"
   ]
  },
  {
   "cell_type": "code",
   "execution_count": 5,
   "metadata": {},
   "outputs": [],
   "source": [
    "counts = nx.degree_histogram(G)\n",
    "degree = range(len(counts))"
   ]
  },
  {
   "cell_type": "code",
   "execution_count": 6,
   "metadata": {},
   "outputs": [
    {
     "data": {
      "image/png": "[encoded data removed]",
      "text/plain": [
       "<Figure size 432x288 with 1 Axes>"
      ]
     },
     "metadata": {
      "needs_background": "light"
     },
     "output_type": "display_data"
    }
   ],
   "source": [
    "plt.xscale('log')\n",
    "#plt.yscale('log')\n",
    "plt.scatter(degree, counts)\n",
    "plt.xlabel('Degree')\n",
    "plt.ylabel('Frequency')\n",
    "plt.show()"
   ]
  },
  {
   "cell_type": "code",
   "execution_count": 7,
   "metadata": {},
   "outputs": [
    {
     "data": {
      "text/plain": [
       "0.3067599067599067"
      ]
     },
     "execution_count": 7,
     "metadata": {},
     "output_type": "execute_result"
    }
   ],
   "source": [
    "centr = nx.degree_centrality(G)\n",
    "centr = np.mean(np.array(list(centr.values())))\n",
    "centr"
   ]
  },
  {
   "cell_type": "code",
   "execution_count": 8,
   "metadata": {},
   "outputs": [],
   "source": [
    "# total number of vertices n\n",
    "# total number of edges m\n",
    "# percentage of present edges p\n",
    "# mean degree z\n",
    "# mean vertex–vertex distance l\n",
    "# clustering coefficient C\n",
    "headers = ['n', 'm', 'p', 'z', 'l', 'C']\n",
    "\n",
    "n = nx.number_of_nodes(G)\n",
    "\n",
    "m = nx.number_of_edges(G)\n",
    "\n",
    "p = m / n / (n-1)\n",
    "\n",
    "degrees = dict(G.degree())\n",
    "z = sum(degrees.values()) / n\n",
    "\n",
    "l = nx.average_shortest_path_length(G)\n",
    "\n",
    "C = nx.clustering(G, weight=None)\n",
    "C = sum(C.values()) / n\n",
    "\n",
    "values = [n, m, p, z, l, C]"
   ]
  },
  {
   "cell_type": "code",
   "execution_count": 9,
   "metadata": {},
   "outputs": [
    {
     "data": {
      "text/html": [
       "<div>\n",
       "<style scoped>\n",
       "    .dataframe tbody tr th:only-of-type {\n",
       "        vertical-align: middle;\n",
       "    }\n",
       "\n",
       "    .dataframe tbody tr th {\n",
       "        vertical-align: top;\n",
       "    }\n",
       "\n",
       "    .dataframe thead th {\n",
       "        text-align: right;\n",
       "    }\n",
       "</style>\n",
       "<table border=\"1\" class=\"dataframe\">\n",
       "  <thead>\n",
       "    <tr style=\"text-align: right;\">\n",
       "      <th></th>\n",
       "      <th>n</th>\n",
       "      <th>m</th>\n",
       "      <th>p</th>\n",
       "      <th>z</th>\n",
       "      <th>l</th>\n",
       "      <th>C</th>\n",
       "    </tr>\n",
       "  </thead>\n",
       "  <tbody>\n",
       "    <tr>\n",
       "      <th>0</th>\n",
       "      <td>66</td>\n",
       "      <td>658</td>\n",
       "      <td>0.15</td>\n",
       "      <td>19.94</td>\n",
       "      <td>1.76</td>\n",
       "      <td>0.60</td>\n",
       "    </tr>\n",
       "  </tbody>\n",
       "</table>\n",
       "</div>"
      ],
      "text/plain": [
       "    n    m    p     z    l    C\n",
       "0  66  658 0.15 19.94 1.76 0.60"
      ]
     },
     "execution_count": 9,
     "metadata": {},
     "output_type": "execute_result"
    }
   ],
   "source": [
    "pd.DataFrame([values], columns=headers)"
   ]
  },
  {
   "cell_type": "code",
   "execution_count": 10,
   "metadata": {},
   "outputs": [],
   "source": [
    "weights = np.triu(cc, 1).flatten()\n",
    "weights = weights[weights!=0.]"
   ]
  },
  {
   "cell_type": "code",
   "execution_count": 11,
   "metadata": {},
   "outputs": [],
   "source": [
    "hist, bins = np.histogram(weights, bins=20)\n",
    "hist = hist / np.sum(hist)\n",
    "bin_centers = (bins[1:]+bins[:-1])*0.5"
   ]
  },
  {
   "cell_type": "code",
   "execution_count": 12,
   "metadata": {},
   "outputs": [
    {
     "data": {
      "text/plain": [
       "array([0.63677812, 0.13677812, 0.08054711, 0.03647416, 0.02735562,\n",
       "       0.0212766 , 0.00759878, 0.01367781, 0.00911854, 0.0106383 ,\n",
       "       0.00759878, 0.00303951, 0.00303951, 0.00151976, 0.00151976,\n",
       "       0.00151976, 0.        , 0.        , 0.        , 0.00151976])"
      ]
     },
     "execution_count": 12,
     "metadata": {},
     "output_type": "execute_result"
    }
   ],
   "source": [
    "hist"
   ]
  },
  {
   "cell_type": "code",
   "execution_count": 13,
   "metadata": {},
   "outputs": [
    {
     "name": "stdout",
     "output_type": "stream",
     "text": [
      "m = -1.4971602497195 , q = -3.0389681144707392\n"
     ]
    }
   ],
   "source": [
    "from sklearn.linear_model import LinearRegression\n",
    "\n",
    "rej = 6\n",
    "\n",
    "x = np.log10(bin_centers[hist!=0][:-rej]).reshape(-1, 1)\n",
    "y = np.log10(hist[hist!=0][:-rej]).reshape(-1, 1)\n",
    "\n",
    "model = LinearRegression().fit(x, y)\n",
    "m = model.coef_[0][0]\n",
    "q = model.intercept_[0]\n",
    "print('m =',m,', q =',q)"
   ]
  },
  {
   "cell_type": "code",
   "execution_count": 18,
   "metadata": {},
   "outputs": [
    {
     "data": {
      "image/png": "[encoded data removed]",
      "text/plain": [
       "<Figure size 864x432 with 1 Axes>"
      ]
     },
     "metadata": {
      "needs_background": "light"
     },
     "output_type": "display_data"
    }
   ],
   "source": [
    "plt.figure(figsize=(12,6))\n",
    "plt.xscale('log')\n",
    "plt.yscale('log')\n",
    "\n",
    "plt.plot(bin_centers, hist, 'o')\n",
    "plt.plot(bin_centers[:-rej], 10**(m*np.log10(bin_centers[:-rej]) + q) )\n",
    "\n",
    "plt.xlabel(r'$W_{i,j}$', size=14)\n",
    "plt.ylabel(r'$P(W_{i,j})$', size=14)\n",
    "plt.title('Weights distribution', size=14)\n",
    "\n",
    "plt.text(0.3, 0.5, r'$\\alpha$ = '+str(np.round(m,3)), size=14 )\n",
    "\n",
    "plt.show()"
   ]
  },
  {
   "cell_type": "code",
   "execution_count": null,
   "metadata": {},
   "outputs": [],
   "source": []
  }
 ],
 "metadata": {
  "kernelspec": {
   "display_name": "Python 3",
   "language": "python",
   "name": "python3"
  },
  "language_info": {
   "codemirror_mode": {
    "name": "ipython",
    "version": 3
   },
   "file_extension": ".py",
   "mimetype": "text/x-python",
   "name": "python",
   "nbconvert_exporter": "python",
   "pygments_lexer": "ipython3",
   "version": "3.7.1"
  }
 },
 "nbformat": 4,
 "nbformat_minor": 2
}
