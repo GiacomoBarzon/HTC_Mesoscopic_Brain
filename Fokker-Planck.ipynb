{
 "cells": [
  {
   "cell_type": "code",
   "execution_count": 1,
   "metadata": {},
   "outputs": [],
   "source": [
    "import sympy as sy"
   ]
  },
  {
   "cell_type": "code",
   "execution_count": 2,
   "metadata": {},
   "outputs": [],
   "source": [
    "x = sy.Symbol('x')\n",
    "y = sy.Symbol('y')\n",
    "k = sy.Symbol('k')\n",
    "r1 = sy.Symbol('r1')\n",
    "r2 = sy.Symbol('r2')\n",
    "h1 = sy.Symbol('h1')\n",
    "h2 = sy.Symbol('h2')\n",
    "N = sy.Symbol('N')"
   ]
  },
  {
   "cell_type": "markdown",
   "metadata": {},
   "source": [
    "# Equilibria"
   ]
  },
  {
   "cell_type": "code",
   "execution_count": 3,
   "metadata": {},
   "outputs": [],
   "source": [
    "x_sub = r2/(1+2*r2)\n",
    "y_sub = 1/(1+2*r2)\n",
    "x_sup = r1*r2/(r1 + r2 + r1*r2)\n",
    "y_sup = r1/(r1 + r2 + r1*r2)"
   ]
  },
  {
   "cell_type": "markdown",
   "metadata": {},
   "source": [
    "# Diffusion matrix"
   ]
  },
  {
   "cell_type": "code",
   "execution_count": 4,
   "metadata": {},
   "outputs": [
    {
     "data": {
      "text/latex": [
       "$\\displaystyle \\left[\\begin{matrix}r_{1} \\left(- x - y + 1\\right) + x & - x\\\\- x & r_{2} y + x\\end{matrix}\\right]$"
      ],
      "text/plain": [
       "Matrix([\n",
       "[r1*(-x - y + 1) + x,       -x],\n",
       "[                 -x, r2*y + x]])"
      ]
     },
     "execution_count": 4,
     "metadata": {},
     "output_type": "execute_result"
    }
   ],
   "source": [
    "B_sup = sy.Matrix([[ r1*(1-x-y)+x, -x],[-x, r2*y+x]])\n",
    "B_sup"
   ]
  },
  {
   "cell_type": "code",
   "execution_count": 5,
   "metadata": {},
   "outputs": [
    {
     "data": {
      "text/latex": [
       "$\\displaystyle \\left[\\begin{matrix}1 - y & - x\\\\- x & r_{2} y + x\\end{matrix}\\right]$"
      ],
      "text/plain": [
       "Matrix([\n",
       "[1 - y,       -x],\n",
       "[   -x, r2*y + x]])"
      ]
     },
     "execution_count": 5,
     "metadata": {},
     "output_type": "execute_result"
    }
   ],
   "source": [
    "B_sub = sy.Matrix([[ (1-x-y)+x, -x],[-x, r2*y+x]])\n",
    "B_sub"
   ]
  },
  {
   "cell_type": "markdown",
   "metadata": {},
   "source": [
    "# Power spectrum\n",
    "$$ P(w) = \\dfrac{\\alpha + \\beta \\omega^2}{[( \\omega^2 - \\Omega_0^2)^2 + \\Gamma^2\\omega^2]} $$\n",
    "<br>\n",
    "where:\n",
    "- $\\alpha = B_{11}J_{22}^2 - 2B_{12}J_{12}J_{22} + B_{22}J_{12}^2$\n",
    "- $\\beta = B_{11}$\n",
    "- $\\Omega_0^2 = J_{11}J_{22} - J_{12}J_{21}$\n",
    "- $\\Gamma = |J_{11} + J_{22}|$"
   ]
  },
  {
   "cell_type": "code",
   "execution_count": null,
   "metadata": {},
   "outputs": [],
   "source": [
    "import numpy as np\n",
    "import matplotlib.pyplot as plt"
   ]
  },
  {
   "cell_type": "code",
   "execution_count": null,
   "metadata": {},
   "outputs": [],
   "source": [
    "def lore(w, omega_0=1., gamma=1., a=1, b=1.):\n",
    "    return ( a + b*w**2) / ( (w**2 - omega_0**2)**2 + gamma**2 * w**2)"
   ]
  },
  {
   "cell_type": "code",
   "execution_count": null,
   "metadata": {},
   "outputs": [],
   "source": [
    "w = np.arange(0, 10, 0.1)"
   ]
  },
  {
   "cell_type": "code",
   "execution_count": null,
   "metadata": {},
   "outputs": [],
   "source": [
    "gammas = [0.8, 1.0, 1.3, 2.0]\n",
    "#gammas = [3, 4, 5, 6]\n",
    "for gamma in gammas:\n",
    "    plt.plot(w, lore(w, gamma=gamma), label=gamma)\n",
    "plt.legend()\n",
    "plt.show()"
   ]
  },
  {
   "cell_type": "markdown",
   "metadata": {},
   "source": [
    "# Mean field"
   ]
  },
  {
   "cell_type": "code",
   "execution_count": null,
   "metadata": {},
   "outputs": [],
   "source": [
    "x, y = sy.symbols('x, y', cls=sy.Function)\n",
    "t = sy.Symbol('t')\n",
    "r1 = sy.Symbol('r1')\n",
    "k = sy.Symbol('k')\n",
    "r2 = sy.Symbol('r2')\n",
    "T = sy.Symbol('T')"
   ]
  },
  {
   "cell_type": "code",
   "execution_count": null,
   "metadata": {},
   "outputs": [],
   "source": [
    "eq = ( sy.Eq(sy.Derivative(x(t),t), (1-x(t)-y(t))*sy.Heaviside(x(t)-10) - x(t)), sy.Eq(sy.Derivative(y(t),t), x(t) - r2*y(t)) )"
   ]
  },
  {
   "cell_type": "code",
   "execution_count": null,
   "metadata": {},
   "outputs": [],
   "source": [
    "eq = sy.Eq(sy.Derivative(x(t),t), (T-x(t)-x(t)/r2)*(r1 + (1-r1)*sy.Heaviside(x(t)-1) )  )"
   ]
  },
  {
   "cell_type": "code",
   "execution_count": null,
   "metadata": {},
   "outputs": [],
   "source": [
    "sol = sy.dsolve(eq)"
   ]
  },
  {
   "cell_type": "code",
   "execution_count": null,
   "metadata": {},
   "outputs": [],
   "source": [
    "sol"
   ]
  },
  {
   "cell_type": "code",
   "execution_count": null,
   "metadata": {},
   "outputs": [],
   "source": [
    "sol[0]"
   ]
  },
  {
   "cell_type": "code",
   "execution_count": null,
   "metadata": {},
   "outputs": [],
   "source": [
    "eq = sy.Eq(sy.Derivative(x(t),t), (1-x(t)-x(t)/r2) )"
   ]
  },
  {
   "cell_type": "code",
   "execution_count": null,
   "metadata": {},
   "outputs": [],
   "source": [
    "sy.solve(eq)"
   ]
  },
  {
   "cell_type": "code",
   "execution_count": null,
   "metadata": {},
   "outputs": [],
   "source": []
  },
  {
   "cell_type": "code",
   "execution_count": 6,
   "metadata": {},
   "outputs": [],
   "source": [
    "a = sy.Symbol('a')\n",
    "b = sy.Symbol('b')\n",
    "k = sy.Symbol('k')\n",
    "g = sy.Symbol('g')\n",
    "w = sy.symbols('w')\n",
    "x = sy.symbols('x')\n",
    "y = sy.symbols('y')\n",
    "\n",
    "B11, B22, B12, B21 = sy.symbols('B11, B22, B12, B21')\n",
    "J11, J22, J12, J21 = sy.symbols('J11, J22, J12, J21')\n",
    "\n",
    "P = sy.Function('P')"
   ]
  },
  {
   "cell_type": "code",
   "execution_count": 7,
   "metadata": {},
   "outputs": [],
   "source": [
    "P = (a+b*w**2) / ( (w**2 - k**2)**2 + g**2*w**2)"
   ]
  },
  {
   "cell_type": "code",
   "execution_count": 8,
   "metadata": {},
   "outputs": [
    {
     "data": {
      "text/latex": [
       "$\\displaystyle \\frac{a + b w^{2}}{g^{2} w^{2} + \\left(- k^{2} + w^{2}\\right)^{2}}$"
      ],
      "text/plain": [
       "(a + b*w**2)/(g**2*w**2 + (-k**2 + w**2)**2)"
      ]
     },
     "execution_count": 8,
     "metadata": {},
     "output_type": "execute_result"
    }
   ],
   "source": [
    "P"
   ]
  },
  {
   "cell_type": "code",
   "execution_count": 9,
   "metadata": {},
   "outputs": [],
   "source": [
    "P = P.subs(a, B11*J22**2 - 2*B12*J12*J22 + B22*J12**2)\n",
    "P = P.subs(b, B11)\n",
    "P = P.subs(k, sy.sqrt(J11*J22 - J12*J21))\n",
    "P = P.subs(g, J11 + J22)"
   ]
  },
  {
   "cell_type": "code",
   "execution_count": 10,
   "metadata": {},
   "outputs": [
    {
     "data": {
      "text/latex": [
       "$\\displaystyle \\frac{B_{11} J_{22}^{2} + B_{11} w^{2} - 2 B_{12} J_{12} J_{22} + B_{22} J_{12}^{2}}{w^{2} \\left(J_{11} + J_{22}\\right)^{2} + \\left(- J_{11} J_{22} + J_{12} J_{21} + w^{2}\\right)^{2}}$"
      ],
      "text/plain": [
       "(B11*J22**2 + B11*w**2 - 2*B12*J12*J22 + B22*J12**2)/(w**2*(J11 + J22)**2 + (-J11*J22 + J12*J21 + w**2)**2)"
      ]
     },
     "execution_count": 10,
     "metadata": {},
     "output_type": "execute_result"
    }
   ],
   "source": [
    "P"
   ]
  },
  {
   "cell_type": "markdown",
   "metadata": {},
   "source": [
    "# Super-critical"
   ]
  },
  {
   "cell_type": "code",
   "execution_count": 11,
   "metadata": {},
   "outputs": [
    {
     "data": {
      "text/latex": [
       "$\\displaystyle \\left[\\begin{matrix}- r_{1} - 1 & - r_{1}\\\\1 & - r_{2}\\end{matrix}\\right]$"
      ],
      "text/plain": [
       "Matrix([\n",
       "[-r1 - 1, -r1],\n",
       "[      1, -r2]])"
      ]
     },
     "execution_count": 11,
     "metadata": {},
     "output_type": "execute_result"
    }
   ],
   "source": [
    "J_sup = sy.Matrix([[ -r1-1, -r1],[1, -r2]])\n",
    "J_sup"
   ]
  },
  {
   "cell_type": "code",
   "execution_count": 12,
   "metadata": {},
   "outputs": [
    {
     "data": {
      "text/latex": [
       "$\\displaystyle \\left[\\begin{matrix}\\frac{r_{1} r_{2}}{r_{1} r_{2} + r_{1} + r_{2}} + r_{1} \\left(- \\frac{r_{1} r_{2}}{r_{1} r_{2} + r_{1} + r_{2}} - \\frac{r_{1}}{r_{1} r_{2} + r_{1} + r_{2}} + 1\\right) & - \\frac{r_{1} r_{2}}{r_{1} r_{2} + r_{1} + r_{2}}\\\\- \\frac{r_{1} r_{2}}{r_{1} r_{2} + r_{1} + r_{2}} & \\frac{2 r_{1} r_{2}}{r_{1} r_{2} + r_{1} + r_{2}}\\end{matrix}\\right]$"
      ],
      "text/plain": [
       "Matrix([\n",
       "[r1*r2/(r1*r2 + r1 + r2) + r1*(-r1*r2/(r1*r2 + r1 + r2) - r1/(r1*r2 + r1 + r2) + 1),  -r1*r2/(r1*r2 + r1 + r2)],\n",
       "[                                                          -r1*r2/(r1*r2 + r1 + r2), 2*r1*r2/(r1*r2 + r1 + r2)]])"
      ]
     },
     "execution_count": 12,
     "metadata": {},
     "output_type": "execute_result"
    }
   ],
   "source": [
    "B_sup = B_sup.subs(x, x_sup)\n",
    "B_sup = B_sup.subs(y, y_sup)\n",
    "B_sup"
   ]
  },
  {
   "cell_type": "code",
   "execution_count": 13,
   "metadata": {},
   "outputs": [
    {
     "data": {
      "text/latex": [
       "$\\displaystyle \\frac{\\frac{2 J_{12}^{2} r_{1} r_{2}}{r_{1} r_{2} + r_{1} + r_{2}} + \\frac{2 J_{12} J_{22} r_{1} r_{2}}{r_{1} r_{2} + r_{1} + r_{2}} + J_{22}^{2} \\left(\\frac{r_{1} r_{2}}{r_{1} r_{2} + r_{1} + r_{2}} + r_{1} \\left(- \\frac{r_{1} r_{2}}{r_{1} r_{2} + r_{1} + r_{2}} - \\frac{r_{1}}{r_{1} r_{2} + r_{1} + r_{2}} + 1\\right)\\right) + w^{2} \\left(\\frac{r_{1} r_{2}}{r_{1} r_{2} + r_{1} + r_{2}} + r_{1} \\left(- \\frac{r_{1} r_{2}}{r_{1} r_{2} + r_{1} + r_{2}} - \\frac{r_{1}}{r_{1} r_{2} + r_{1} + r_{2}} + 1\\right)\\right)}{w^{2} \\left(J_{11} + J_{22}\\right)^{2} + \\left(- J_{11} J_{22} + J_{12} J_{21} + w^{2}\\right)^{2}}$"
      ],
      "text/plain": [
       "(2*J12**2*r1*r2/(r1*r2 + r1 + r2) + 2*J12*J22*r1*r2/(r1*r2 + r1 + r2) + J22**2*(r1*r2/(r1*r2 + r1 + r2) + r1*(-r1*r2/(r1*r2 + r1 + r2) - r1/(r1*r2 + r1 + r2) + 1)) + w**2*(r1*r2/(r1*r2 + r1 + r2) + r1*(-r1*r2/(r1*r2 + r1 + r2) - r1/(r1*r2 + r1 + r2) + 1)))/(w**2*(J11 + J22)**2 + (-J11*J22 + J12*J21 + w**2)**2)"
      ]
     },
     "execution_count": 13,
     "metadata": {},
     "output_type": "execute_result"
    }
   ],
   "source": [
    "P_sup = P.subs(B11, B_sup[0,0])\n",
    "P_sup = P_sup.subs(B12, B_sup[0,1])\n",
    "P_sup = P_sup.subs(B22, B_sup[1,1])\n",
    "P_sup"
   ]
  },
  {
   "cell_type": "code",
   "execution_count": 14,
   "metadata": {},
   "outputs": [
    {
     "data": {
      "text/latex": [
       "$\\displaystyle \\frac{\\frac{2 r_{1}^{3} r_{2}}{r_{1} r_{2} + r_{1} + r_{2}} + \\frac{2 r_{1}^{2} r_{2}^{2}}{r_{1} r_{2} + r_{1} + r_{2}} + r_{2}^{2} \\left(\\frac{r_{1} r_{2}}{r_{1} r_{2} + r_{1} + r_{2}} + r_{1} \\left(- \\frac{r_{1} r_{2}}{r_{1} r_{2} + r_{1} + r_{2}} - \\frac{r_{1}}{r_{1} r_{2} + r_{1} + r_{2}} + 1\\right)\\right) + w^{2} \\left(\\frac{r_{1} r_{2}}{r_{1} r_{2} + r_{1} + r_{2}} + r_{1} \\left(- \\frac{r_{1} r_{2}}{r_{1} r_{2} + r_{1} + r_{2}} - \\frac{r_{1}}{r_{1} r_{2} + r_{1} + r_{2}} + 1\\right)\\right)}{w^{2} \\left(- r_{1} - r_{2} - 1\\right)^{2} + \\left(- r_{1} + r_{2} \\left(- r_{1} - 1\\right) + w^{2}\\right)^{2}}$"
      ],
      "text/plain": [
       "(2*r1**3*r2/(r1*r2 + r1 + r2) + 2*r1**2*r2**2/(r1*r2 + r1 + r2) + r2**2*(r1*r2/(r1*r2 + r1 + r2) + r1*(-r1*r2/(r1*r2 + r1 + r2) - r1/(r1*r2 + r1 + r2) + 1)) + w**2*(r1*r2/(r1*r2 + r1 + r2) + r1*(-r1*r2/(r1*r2 + r1 + r2) - r1/(r1*r2 + r1 + r2) + 1)))/(w**2*(-r1 - r2 - 1)**2 + (-r1 + r2*(-r1 - 1) + w**2)**2)"
      ]
     },
     "execution_count": 14,
     "metadata": {},
     "output_type": "execute_result"
    }
   ],
   "source": [
    "P_sup = P_sup.subs(J11, J_sup[0,0])\n",
    "P_sup = P_sup.subs(J12, J_sup[0,1])\n",
    "P_sup = P_sup.subs(J21, J_sup[1,0])\n",
    "P_sup = P_sup.subs(J22, J_sup[1,1])\n",
    "P_sup"
   ]
  },
  {
   "cell_type": "code",
   "execution_count": 15,
   "metadata": {},
   "outputs": [],
   "source": [
    "maximals = P_sup.diff(w)\n",
    "maximals = sy.solve(maximals, w)"
   ]
  },
  {
   "cell_type": "code",
   "execution_count": 16,
   "metadata": {},
   "outputs": [
    {
     "data": {
      "text/latex": [
       "$\\displaystyle 0$"
      ],
      "text/plain": [
       "0"
      ]
     },
     "execution_count": 16,
     "metadata": {},
     "output_type": "execute_result"
    }
   ],
   "source": [
    "maximals[0]"
   ]
  },
  {
   "cell_type": "code",
   "execution_count": 17,
   "metadata": {},
   "outputs": [
    {
     "data": {
      "text/latex": [
       "$\\displaystyle - \\sqrt{- r_{1}^{2} - r_{1} r_{2} - r_{2}^{2} - \\sqrt{r_{1} r_{2}} \\left(r_{1} + r_{2} + 1\\right)}$"
      ],
      "text/plain": [
       "-sqrt(-r1**2 - r1*r2 - r2**2 - sqrt(r1*r2)*(r1 + r2 + 1))"
      ]
     },
     "execution_count": 17,
     "metadata": {},
     "output_type": "execute_result"
    }
   ],
   "source": [
    "maximals[1]"
   ]
  },
  {
   "cell_type": "code",
   "execution_count": 18,
   "metadata": {},
   "outputs": [
    {
     "data": {
      "text/latex": [
       "$\\displaystyle \\sqrt{- r_{1}^{2} - r_{1} r_{2} - r_{2}^{2} - \\sqrt{r_{1} r_{2}} \\left(r_{1} + r_{2} + 1\\right)}$"
      ],
      "text/plain": [
       "sqrt(-r1**2 - r1*r2 - r2**2 - sqrt(r1*r2)*(r1 + r2 + 1))"
      ]
     },
     "execution_count": 18,
     "metadata": {},
     "output_type": "execute_result"
    }
   ],
   "source": [
    "maximals[2]"
   ]
  },
  {
   "cell_type": "code",
   "execution_count": 19,
   "metadata": {},
   "outputs": [
    {
     "data": {
      "text/latex": [
       "$\\displaystyle - \\sqrt{- r_{1}^{2} - r_{1} r_{2} - r_{2}^{2} + \\sqrt{r_{1} r_{2}} \\left(r_{1} + r_{2} + 1\\right)}$"
      ],
      "text/plain": [
       "-sqrt(-r1**2 - r1*r2 - r2**2 + sqrt(r1*r2)*(r1 + r2 + 1))"
      ]
     },
     "execution_count": 19,
     "metadata": {},
     "output_type": "execute_result"
    }
   ],
   "source": [
    "maximals[3]"
   ]
  },
  {
   "cell_type": "code",
   "execution_count": null,
   "metadata": {},
   "outputs": [],
   "source": []
  }
 ],
 "metadata": {
  "kernelspec": {
   "display_name": "Python 3",
   "language": "python",
   "name": "python3"
  },
  "language_info": {
   "codemirror_mode": {
    "name": "ipython",
    "version": 3
   },
   "file_extension": ".py",
   "mimetype": "text/x-python",
   "name": "python",
   "nbconvert_exporter": "python",
   "pygments_lexer": "ipython3",
   "version": "3.7.1"
  }
 },
 "nbformat": 4,
 "nbformat_minor": 2
}
